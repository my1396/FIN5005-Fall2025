{
 "cells": [
  {
   "cell_type": "markdown",
   "id": "7d56bf44",
   "metadata": {
    "vscode": {
     "languageId": "r"
    }
   },
   "source": [
    "# Lab 2: Regression with Dummy Variables"
   ]
  },
  {
   "cell_type": "markdown",
   "id": "f9f5ca32",
   "metadata": {},
   "source": [
    "In this lab, we will run regressions with dummy variables (also known as binary variables or indicator variables). \n",
    "\n",
    "🎯 In this script, you will learn how to:\n",
    "\n",
    "- Load data from a local CSV file\n",
    "- Create dummy variables from a numeric variable\n",
    "- Run a regression with dummy variables\n",
    "- Interpret the regression results"
   ]
  },
  {
   "cell_type": "markdown",
   "id": "35ff84b8",
   "metadata": {},
   "source": [
    "## Instructions"
   ]
  },
  {
   "cell_type": "markdown",
   "id": "d034511f",
   "metadata": {},
   "source": [
    "Copy and paste **ALL code** in this page into a new R script file in RStudio. Save the file as `lab2_binary_variables.R` (we call it a script). Then, run the code step by step, answering the questions."
   ]
  },
  {
   "cell_type": "code",
   "execution_count": null,
   "id": "8cf1cd7a",
   "metadata": {
    "vscode": {
     "languageId": "r"
    }
   },
   "outputs": [],
   "source": [
    "# load packages and dataset\n",
    "pkgs <- c(\"tidyverse\", \"moments\", \"data.table\", \"ggsci\", \"stargazer\")\n",
    "missing <- setdiff(pkgs, rownames(installed.packages()))\n",
    "if (length(missing) > 0) install.packages(missing)\n",
    "invisible(lapply(pkgs, function(pkg) suppressPackageStartupMessages(library(pkg, character.only = TRUE))))\n",
    "options(knitr.kable.NA = \"\") # to avoid printing NA in kable"
   ]
  },
  {
   "cell_type": "markdown",
   "id": "fb01ec71",
   "metadata": {
    "vscode": {
     "languageId": "r"
    }
   },
   "source": [
    "## Load data into working directory\n",
    "\n",
    "We continue to use the same dataset California school dataset (CASchools). Refer to [Data Visualization: Dataset Overview](02_Data_Visualization.qmd#dataset-overview) for detailed description of the dataset.\n",
    "\n",
    "Previously, we loaded the data directly from an online data repository. Now, we will load the data from a local CSV file. \n",
    "\n",
    "Downloaded the `CASchools_test_score.csv` file from Canvas and placed it in the same folder as where you put `lab2_binary_variables.R`. This is to make sure that the script can find the data file."
   ]
  },
  {
   "cell_type": "code",
   "execution_count": 17,
   "id": "1a1b745b",
   "metadata": {
    "vscode": {
     "languageId": "r"
    }
   },
   "outputs": [
    {
     "name": "stdout",
     "output_type": "stream",
     "text": [
      "     district                          school      county grades students\n",
      "        <num>                          <char>      <char> <char>    <num>\n",
      "  1:    75119              Sunol Glen Unified     Alameda  KK-08      195\n",
      "  2:    61499            Manzanita Elementary       Butte  KK-08      240\n",
      "  3:    61549     Thermalito Union Elementary       Butte  KK-08     1550\n",
      "  4:    61457 Golden Feather Union Elementary       Butte  KK-08      243\n",
      "  5:    61523        Palermo Union Elementary       Butte  KK-08     1335\n",
      " ---                                                                     \n",
      "416:    68957          Las Lomitas Elementary   San Mateo  KK-08      984\n",
      "417:    69518            Los Altos Elementary Santa Clara  KK-08     3724\n",
      "418:    72611          Somis Union Elementary     Ventura  KK-08      441\n",
      "419:    72744               Plumas Elementary        Yuba  KK-08      101\n",
      "420:    72751            Wheatland Elementary        Yuba  KK-08     1778\n",
      "     teachers calworks   lunch computer expenditure    income   english  read\n",
      "        <num>    <num>   <num>    <num>       <num>     <num>     <num> <num>\n",
      "  1:    10.90   0.5102  2.0408       67    6384.911 22.690001  0.000000 691.6\n",
      "  2:    11.15  15.4167 47.9167      101    5099.381  9.824000  4.583333 660.5\n",
      "  3:    82.90  55.0323 76.3226      169    5501.955  8.978000 30.000002 636.3\n",
      "  4:    14.00  36.4754 77.0492       85    7101.831  8.978000  0.000000 651.9\n",
      "  5:    71.50  33.1086 78.4270      171    5235.988  9.080333 13.857677 641.8\n",
      " ---                                                                         \n",
      "416:    59.73   0.1016  3.5569      195    7290.339 28.716999  5.995935 700.9\n",
      "417:   208.48   1.0741  1.5038      721    5741.463 41.734108  4.726101 704.0\n",
      "418:    20.15   3.5635 37.1938       45    4402.832 23.733000 24.263039 648.3\n",
      "419:     5.00  11.8812 59.4059       14    4776.336  9.952000  2.970297 667.9\n",
      "420:    93.40   6.9235 47.5712      313    5993.393 12.502000  5.005624 660.5\n",
      "      math\n",
      "     <num>\n",
      "  1: 690.0\n",
      "  2: 661.9\n",
      "  3: 650.9\n",
      "  4: 643.5\n",
      "  5: 639.9\n",
      " ---      \n",
      "416: 707.7\n",
      "417: 709.5\n",
      "418: 641.7\n",
      "419: 676.5\n",
      "420: 651.0\n"
     ]
    }
   ],
   "source": [
    "# load dataset\n",
    "f_name <- \"CASchools_test_score.csv\"\n",
    "cas <- read_csv(f_name)\n",
    "# data preview, first and last 5 rows\n",
    "cas %>% as.data.table() %>% print(topn = 5)"
   ]
  },
  {
   "cell_type": "markdown",
   "id": "33eeb3b2",
   "metadata": {},
   "source": [
    "Prepare dataset for analysis. \n",
    "\n",
    "As done previously, we create the following variables:\n",
    "\n",
    "- `TestScore`: average test score of students in a school (average of math and reading scores)\n",
    "- `str`: student-teacher ratio"
   ]
  },
  {
   "cell_type": "code",
   "execution_count": 18,
   "id": "d43744db",
   "metadata": {
    "vscode": {
     "languageId": "r"
    }
   },
   "outputs": [],
   "source": [
    "cas <- cas %>%\n",
    "    mutate(\n",
    "        TestScore = (read + math) / 2,\n",
    "        STR = students / teachers\n",
    "    )"
   ]
  },
  {
   "cell_type": "markdown",
   "id": "7b45616d",
   "metadata": {},
   "source": [
    "## Regression When $X$ is a Binary Variable\n",
    "\n",
    "Instead of using a continuous regressor $X$ , we might be interested in running the regression\n",
    "\n",
    "$$\n",
    "Y_i = \\beta_0 + \\beta_1 D_i + u_i, \n",
    "$$ {#eq-binary-regression}\n",
    "\n",
    "where $D_i$ is a binary variable, a so-called dummary variable. For example, we may defined $D_i$ as follows:\n",
    "\n",
    "$$\n",
    "D_i = \n",
    "\\begin{cases}\n",
    "    1 & \\text{if $STR$ in $i^{th}$ school district < 20} \\\\\n",
    "    0 & \\text{if $STR$ in $i^{th}$ school district $\\geq$ 20}.\n",
    "\\end{cases}\n",
    "$$ {#eq-dummy-variable}\n",
    "\n",
    "The regression model now is \n",
    "\n",
    "$$\n",
    "TestScore_i = \\beta_0 + \\beta_1 D_i + u_i.\n",
    "$$"
   ]
  },
  {
   "cell_type": "markdown",
   "id": "6838d821",
   "metadata": {},
   "source": [
    "### Data Visualization"
   ]
  },
  {
   "cell_type": "code",
   "execution_count": 19,
   "id": "a31c1e34",
   "metadata": {
    "vscode": {
     "languageId": "r"
    }
   },
   "outputs": [],
   "source": [
    "# Create the dummy variable as defined above\n",
    "# D=1 (low STR); D=0 (high STR)\n",
    "cas$D <- cas$STR < 20\n"
   ]
  },
  {
   "cell_type": "code",
   "execution_count": 20,
   "id": "0358ad10",
   "metadata": {
    "vscode": {
     "languageId": "r"
    }
   },
   "outputs": [
    {
     "data": {
      "text/html": [
       "<table class=\"dataframe\">\n",
       "<caption>A data.frame: 2 × 2</caption>\n",
       "<thead>\n",
       "\t<tr><th scope=col>D</th><th scope=col>TestScore</th></tr>\n",
       "\t<tr><th scope=col>&lt;lgl&gt;</th><th scope=col>&lt;dbl&gt;</th></tr>\n",
       "</thead>\n",
       "<tbody>\n",
       "\t<tr><td>FALSE</td><td>650.0768</td></tr>\n",
       "\t<tr><td> TRUE</td><td>657.2462</td></tr>\n",
       "</tbody>\n",
       "</table>\n"
      ],
      "text/latex": [
       "A data.frame: 2 × 2\n",
       "\\begin{tabular}{ll}\n",
       " D & TestScore\\\\\n",
       " <lgl> & <dbl>\\\\\n",
       "\\hline\n",
       "\t FALSE & 650.0768\\\\\n",
       "\t  TRUE & 657.2462\\\\\n",
       "\\end{tabular}\n"
      ],
      "text/markdown": [
       "\n",
       "A data.frame: 2 × 2\n",
       "\n",
       "| D &lt;lgl&gt; | TestScore &lt;dbl&gt; |\n",
       "|---|---|\n",
       "| FALSE | 650.0768 |\n",
       "|  TRUE | 657.2462 |\n",
       "\n"
      ],
      "text/plain": [
       "  D     TestScore\n",
       "1 FALSE 650.0768 \n",
       "2  TRUE 657.2462 "
      ]
     },
     "metadata": {},
     "output_type": "display_data"
    }
   ],
   "source": [
    "# Compute group means\n",
    "means <- aggregate(TestScore ~ D, data = cas, mean)\n",
    "means"
   ]
  },
  {
   "cell_type": "code",
   "execution_count": 21,
   "id": "94ff77b6",
   "metadata": {
    "vscode": {
     "languageId": "r"
    }
   },
   "outputs": [],
   "source": [
    "#| echo: false\n",
    "p <- ggplot(cas, aes(x = factor(D), y = TestScore)) +\n",
    "    # scatter points, spreads the points horizontally so they don't overlap\n",
    "    geom_jitter(width = 0.1, height = 0, size = 0.5, color = \"steelblue\") +\n",
    "    geom_point(\n",
    "        data = means, aes(x = factor(D), y = TestScore),\n",
    "        color = \"red\", size = 2\n",
    "    ) + # group means\n",
    "    labs(\n",
    "        x = expression(D[i]),\n",
    "        y = \"Test Score\",\n",
    "    ) +\n",
    "    theme_minimal(base_size = 14)\n",
    "f_name <- \"images/dummy_plot.png\"\n",
    "ggsave(f_name, p, width = 6, height = 4, dpi = 300, units = \"in\")"
   ]
  },
  {
   "cell_type": "code",
   "execution_count": null,
   "id": "3cffdd3c",
   "metadata": {
    "vscode": {
     "languageId": "r"
    }
   },
   "outputs": [],
   "source": [
    "#| eval: false\n",
    "ggplot(cas, aes(x = factor(D), y = TestScore)) +\n",
    "    # scatter points, spreads the points horizontally so they don't overlap\n",
    "    geom_jitter(width = 0.1, height = 0, size = 0.5, color = \"steelblue\") +\n",
    "    geom_point(\n",
    "        data = means, aes(x = factor(D), y = TestScore),\n",
    "        color = \"red\", size = 2\n",
    "    ) + # group means\n",
    "    labs(\n",
    "        x = expression(D[i]),\n",
    "        y = \"Test Score\",\n",
    "    ) +\n",
    "    theme_minimal(base_size = 14)"
   ]
  },
  {
   "cell_type": "code",
   "execution_count": 23,
   "id": "52bf9270",
   "metadata": {
    "vscode": {
     "languageId": "r"
    }
   },
   "outputs": [
    {
     "data": {
      "text/html": [
       "<div style=\"text-align: center;\"><img src=\"images/dummy_plot.png\" style=\"width: 70%; height: auto;\"></div>"
      ]
     },
     "metadata": {},
     "output_type": "display_data"
    }
   ],
   "source": [
    "#| echo: false\n",
    "# Display the image with controlled width and centered\n",
    "library(IRdisplay)\n",
    "display_html(paste0('<div style=\"text-align: center;\"><img src=\"', f_name, '\" style=\"width: 70%; height: auto;\"></div>'))"
   ]
  },
  {
   "cell_type": "markdown",
   "id": "ceade2fb",
   "metadata": {},
   "source": [
    "We see that small size class has higher average test score."
   ]
  },
  {
   "cell_type": "markdown",
   "id": "5b6e3f21",
   "metadata": {},
   "source": [
    "### Regression with a Binary Variable"
   ]
  },
  {
   "cell_type": "markdown",
   "id": "65df5677",
   "metadata": {},
   "source": [
    "With $D$ as the regressor, it is not useful to think of $\\beta_1$ as a slope parameter since since $D_i \\in \\{0,1\\},$ i.e., we only observe two discrete values instead of a continuum of regressor values. There is no continuous line depicting the conditional expectation function $E(TestScore_i | D_i)$ since this function is solely defined for $x$-positions $D_i = 0$ and $D_i = 1$.\n",
    "\n",
    "Therefore, <span class=\"env-green\">**the interpretation**</span> of the coefficients in this regression model is as follows:\n",
    "\n",
    "- $E(Y_i | D_i = 0) = \\beta_0$, so $\\beta_0$ is the expected test score in districts where $D_i = 0$ and $STR$ is larger or equal to 20.\n",
    "- $E(Y_i | D_i = 1) = \\beta_0 + \\beta_1$, or $\\beta_1 = E(Y_i | D_i = 1) - E(Y_i | D_i = 0).$ Thus, $\\beta_1$ is the difference in group-specific expectations, i.e., the difference in expected test score between districts with $STR<20$ and those with $STR \\geq 20.$\n",
    "\n",
    "We now estimate the dummary regression model as defined by Equations (-@eq-binary-regression) and (-@eq-dummy-variable)."
   ]
  },
  {
   "cell_type": "code",
   "execution_count": 24,
   "id": "d4b324d5",
   "metadata": {
    "vscode": {
     "languageId": "r"
    }
   },
   "outputs": [
    {
     "name": "stdout",
     "output_type": "stream",
     "text": [
      "\n",
      "Dummy Variable Regression Results\n",
      "===============================================\n",
      "                        Dependent variable:    \n",
      "                    ---------------------------\n",
      "                             TestScore         \n",
      "-----------------------------------------------\n",
      "D                            7.169***          \n",
      "                              (1.847)          \n",
      "                                               \n",
      "Constant                    650.077***         \n",
      "                              (1.393)          \n",
      "                                               \n",
      "-----------------------------------------------\n",
      "Observations                    420            \n",
      "R2                             0.035           \n",
      "Adjusted R2                    0.032           \n",
      "Residual Std. Error      18.741 (df = 418)     \n",
      "F Statistic           15.073*** (df = 1; 418)  \n",
      "===============================================\n",
      "Note:               *p<0.1; **p<0.05; ***p<0.01\n"
     ]
    }
   ],
   "source": [
    "#| results: 'hide'\n",
    "dummy_model_slr <- lm(TestScore ~ D, data = cas)\n",
    "stargazer(dummy_model_slr, type = \"text\", title = \"Dummy Variable Regression Results\", digits = 3)"
   ]
  },
  {
   "cell_type": "markdown",
   "id": "fc2c96ab",
   "metadata": {},
   "source": [
    "💡 Q: **Based on the regression output, answer the following questions:**\n",
    "\n",
    "- What is the average test score in school districts with $STR \\geq 20$?\n",
    "- What is the average test score in school districts with $STR < 20$?\n",
    "- What is the difference in average test score between school districts with $STR < 20$ and those with $STR \\geq 20$?\n",
    "- Is the difference statistically significant at the 5% significance level?"
   ]
  },
  {
   "cell_type": "markdown",
   "id": "5b089702",
   "metadata": {},
   "source": [
    "## MLR with a Binary Variable"
   ]
  },
  {
   "cell_type": "code",
   "execution_count": 25,
   "id": "d11f30c8",
   "metadata": {
    "vscode": {
     "languageId": "r"
    }
   },
   "outputs": [
    {
     "name": "stdout",
     "output_type": "stream",
     "text": [
      "\n",
      "Regression Results\n",
      "====================================================================\n",
      "                                  Dependent variable:               \n",
      "                    ------------------------------------------------\n",
      "                                       TestScore                    \n",
      "                              SLR                     MLR           \n",
      "                              (1)                     (2)           \n",
      "--------------------------------------------------------------------\n",
      "computer                                             0.001          \n",
      "                                                    (0.001)         \n",
      "                                                                    \n",
      "english                                            -0.139***        \n",
      "                                                    (0.034)         \n",
      "                                                                    \n",
      "lunch                                              -0.544***        \n",
      "                                                    (0.022)         \n",
      "                                                                    \n",
      "D                          7.169***                 2.876***        \n",
      "                            (1.847)                 (0.952)         \n",
      "                                                                    \n",
      "Constant                  650.077***               678.590***       \n",
      "                            (1.393)                 (1.164)         \n",
      "                                                                    \n",
      "--------------------------------------------------------------------\n",
      "Observations                  420                     420           \n",
      "R2                           0.035                   0.770          \n",
      "Adjusted R2                  0.032                   0.768          \n",
      "Residual Std. Error    18.741 (df = 418)        9.176 (df = 415)    \n",
      "F Statistic         15.073*** (df = 1; 418) 347.915*** (df = 4; 415)\n",
      "====================================================================\n",
      "Note:                                    *p<0.1; **p<0.05; ***p<0.01\n"
     ]
    }
   ],
   "source": [
    "#| results: 'hide'\n",
    "dummy_model_mlr <- lm(TestScore ~ computer + english + lunch + D, data = cas)\n",
    "stargazer(dummy_model_slr, dummy_model_mlr,\n",
    "    type = \"text\",\n",
    "    title = \"Regression Results\",\n",
    "    column.labels = c(\"SLR\", \"MLR\"),\n",
    "    digits = 3\n",
    ")"
   ]
  },
  {
   "cell_type": "markdown",
   "id": "32ddca19",
   "metadata": {},
   "source": [
    "💡 Q: **Comparing the regression results of the simple regression with a binary variable and the multiple regression with additional control variables, answer the following questions:**\n",
    "\n",
    "- How does the coefficient of the binary variable change when we add more control variables?\n",
    "- Why does the estimated effect of small classes shrink when other control variables are included?\n",
    "- Does the smaller coefficient in the multiple linear regression model mean small classes are unimportant, or does it mean we now have a less biased estimate of their effect? Explain."
   ]
  },
  {
   "cell_type": "markdown",
   "id": "318041d4",
   "metadata": {},
   "source": [
    "## ANOVA test"
   ]
  },
  {
   "cell_type": "markdown",
   "id": "160bd778",
   "metadata": {},
   "source": [
    "### One-way ANOVA test\n",
    "\n",
    "The purpose of a one-way ANOVA (analysis of variance) test is to determine the existence of a statistically significant difference among the means of three or more populations. The test actually uses variances to help determine if the population means are equal or not.\n",
    "\n",
    "In what follows, we will use the one-way ANONA test to examine whether the average test scores differ across schools with different sizes of student-teacher ratios (STR).\n",
    "\n",
    "We first **create a new categorical variable** `str_cat` based on the variable `str` (student-teacher ratio):\n",
    "\n",
    "- Small size class: STR < 18\n",
    "- Medium size class: 18 ≤ STR < 21\n",
    "- Large size class: STR ≥ 21\n",
    "\n",
    "Then, we run the one-way ANOVA test to see if the average test scores differ across schools with different sizes of student-teacher ratios (STR).\n",
    "\n",
    "Null and alternative hypotheses:\n",
    "- $H_0$: The average test scores are the same across schools with different sizes of student-teacher ratios (STR).\n",
    "- $H_1$: At least one pair of average test scores are different."
   ]
  },
  {
   "cell_type": "code",
   "execution_count": 26,
   "id": "51be454c",
   "metadata": {
    "vscode": {
     "languageId": "r"
    }
   },
   "outputs": [
    {
     "data": {
      "text/plain": [
       ".\n",
       " Large Medium  Small \n",
       "    92    253     75 "
      ]
     },
     "metadata": {},
     "output_type": "display_data"
    }
   ],
   "source": [
    "cas <- cas %>%\n",
    "    mutate(\n",
    "        str_cat = case_when(\n",
    "            STR < 18 ~ \"Small\",\n",
    "            STR >= 18 & STR < 21 ~ \"Medium\",\n",
    "            STR >= 21 ~ \"Large\"\n",
    "        )\n",
    "    )\n",
    "cas$str_cat %>% table()"
   ]
  },
  {
   "cell_type": "code",
   "execution_count": 27,
   "id": "072f2837",
   "metadata": {
    "vscode": {
     "languageId": "r"
    }
   },
   "outputs": [
    {
     "data": {
      "text/plain": [
       "             Df Sum Sq Mean Sq F value   Pr(>F)    \n",
       "str_cat       2   9101    4551   13.27 2.59e-06 ***\n",
       "Residuals   417 143008     343                     \n",
       "---\n",
       "Signif. codes:  0 ‘***’ 0.001 ‘**’ 0.01 ‘*’ 0.05 ‘.’ 0.1 ‘ ’ 1"
      ]
     },
     "metadata": {},
     "output_type": "display_data"
    }
   ],
   "source": [
    "# ANOVA test\n",
    "anova_result <- aov(TestScore ~ str_cat, data = cas)\n",
    "summary(anova_result)"
   ]
  },
  {
   "cell_type": "markdown",
   "id": "26f90ede",
   "metadata": {},
   "source": [
    "Given the significance level $\\alpha = 0.05$, we reject the null hypothesis (p-value < 0.05) and conclude that at least one pair of average test scores are different across schools with different sizes of student-teacher ratios (STR)."
   ]
  },
  {
   "cell_type": "code",
   "execution_count": 38,
   "id": "029d27d9",
   "metadata": {
    "vscode": {
     "languageId": "r"
    }
   },
   "outputs": [
    {
     "data": {
      "image/png": "[encoded data removed]",
      "text/plain": [
       "plot without title"
      ]
     },
     "metadata": {
      "image/png": {
       "height": 420,
       "width": 420
      }
     },
     "output_type": "display_data"
    }
   ],
   "source": [
    "# Box plot of TestScore by str_cat\n",
    "p_anova <- ggplot(cas, aes(x = str_cat, y = TestScore)) +\n",
    "    geom_boxplot(fill = \"lightblue\") +\n",
    "    labs(\n",
    "        x = \"Student-Teacher Ratio Category\",\n",
    "        y = \"Test Score\",\n",
    "        title = \"Box Plot of Test Scores by Student-Teacher Ratio Category\"\n",
    "    ) +\n",
    "    theme_minimal(base_size = 14)\n",
    "p_anova"
   ]
  },
  {
   "cell_type": "markdown",
   "id": "7af41fad",
   "metadata": {},
   "source": [
    "### Two-way ANOVA test"
   ]
  },
  {
   "cell_type": "markdown",
   "id": "d2ff3a37",
   "metadata": {},
   "source": [
    "The two-way ANOVA test is used to compare the fits of two regression models.\n",
    "\n",
    "- Test for Improvement: It tests whether adding more predictors (variables) to a model significantly improves the model’s ability to explain the variability in the response variable.\n",
    "\n",
    "- Model Selection: Helps in deciding between a simpler model with fewer variables and a more complex one with more variables.\n",
    "\n",
    "For instance, consider we have two models:\n",
    "\n",
    "- Model 1: $y=\\beta_1 + \\beta_2 x_{2} + \\varepsilon$, and\n",
    "- Model 2: $y=\\beta_1 + \\beta_2 x_{2} + \\beta_3 x_3 + \\beta_3 x_4 + \\varepsilon$.\n",
    "\n",
    "We can form a test by comparing the $R^2$ from the two models.\n",
    "\n",
    "$$\n",
    "\\begin{aligned}\n",
    "&\\text{H}_0: \\beta_3=\\beta_4=0 \\\\\n",
    "&\\text{H}_1: \\beta_3\\ne 0 \\text{ or } \\beta_4\\ne 0 ,\n",
    "\\end{aligned}\n",
    "$$\n",
    "which imposes two exclusion restrictions."
   ]
  },
  {
   "cell_type": "markdown",
   "id": "3d169461",
   "metadata": {},
   "source": [
    "Coming back to our California school TestScore example, we can use the two-way ANOVA test to see if the multiple regression model with additional control variables (Model 2) significantly improves the model’s ability to explain the variability in TestScore compared to the simple regression model (Model 1)."
   ]
  },
  {
   "cell_type": "code",
   "execution_count": 37,
   "id": "1c6ab3a5",
   "metadata": {
    "vscode": {
     "languageId": "r"
    }
   },
   "outputs": [
    {
     "data": {
      "text/html": [
       "<table class=\"dataframe\">\n",
       "<caption>A anova: 2 × 6</caption>\n",
       "<thead>\n",
       "\t<tr><th></th><th scope=col>Res.Df</th><th scope=col>RSS</th><th scope=col>Df</th><th scope=col>Sum of Sq</th><th scope=col>F</th><th scope=col>Pr(&gt;F)</th></tr>\n",
       "\t<tr><th></th><th scope=col>&lt;dbl&gt;</th><th scope=col>&lt;dbl&gt;</th><th scope=col>&lt;dbl&gt;</th><th scope=col>&lt;dbl&gt;</th><th scope=col>&lt;dbl&gt;</th><th scope=col>&lt;dbl&gt;</th></tr>\n",
       "</thead>\n",
       "<tbody>\n",
       "\t<tr><th scope=row>1</th><td>418</td><td>146815.42</td><td>NA</td><td>    NA</td><td>      NA</td><td>           NA</td></tr>\n",
       "\t<tr><th scope=row>2</th><td>415</td><td> 34940.45</td><td> 3</td><td>111875</td><td>442.9261</td><td>6.146085e-129</td></tr>\n",
       "</tbody>\n",
       "</table>\n"
      ],
      "text/latex": [
       "A anova: 2 × 6\n",
       "\\begin{tabular}{r|llllll}\n",
       "  & Res.Df & RSS & Df & Sum of Sq & F & Pr(>F)\\\\\n",
       "  & <dbl> & <dbl> & <dbl> & <dbl> & <dbl> & <dbl>\\\\\n",
       "\\hline\n",
       "\t1 & 418 & 146815.42 & NA &     NA &       NA &            NA\\\\\n",
       "\t2 & 415 &  34940.45 &  3 & 111875 & 442.9261 & 6.146085e-129\\\\\n",
       "\\end{tabular}\n"
      ],
      "text/markdown": [
       "\n",
       "A anova: 2 × 6\n",
       "\n",
       "| <!--/--> | Res.Df &lt;dbl&gt; | RSS &lt;dbl&gt; | Df &lt;dbl&gt; | Sum of Sq &lt;dbl&gt; | F &lt;dbl&gt; | Pr(&gt;F) &lt;dbl&gt; |\n",
       "|---|---|---|---|---|---|---|\n",
       "| 1 | 418 | 146815.42 | NA |     NA |       NA |            NA |\n",
       "| 2 | 415 |  34940.45 |  3 | 111875 | 442.9261 | 6.146085e-129 |\n",
       "\n"
      ],
      "text/plain": [
       "  Res.Df RSS       Df Sum of Sq F        Pr(>F)       \n",
       "1 418    146815.42 NA     NA          NA            NA\n",
       "2 415     34940.45  3 111875    442.9261 6.146085e-129"
      ]
     },
     "metadata": {},
     "output_type": "display_data"
    }
   ],
   "source": [
    "anova_result2 <- anova(dummy_model_slr, dummy_model_mlr)\n",
    "anova_result2"
   ]
  },
  {
   "cell_type": "markdown",
   "id": "2a1ac872",
   "metadata": {},
   "source": [
    "The p-value is way less than 0.05, indicating that we reject the null hypothesis and conclude that adding the control variables (`computer`, `english`, and `lunch`) significantly improves the model's ability to explain the variability in TestScore."
   ]
  },
  {
   "cell_type": "markdown",
   "id": "b55e5a40",
   "metadata": {},
   "source": []
  }
 ],
 "metadata": {
  "kernelspec": {
   "display_name": "R",
   "language": "R",
   "name": "ir"
  },
  "language_info": {
   "codemirror_mode": "r",
   "file_extension": ".r",
   "mimetype": "text/x-r-source",
   "name": "R",
   "pygments_lexer": "r",
   "version": "4.5.1"
  }
 },
 "nbformat": 4,
 "nbformat_minor": 5
}
