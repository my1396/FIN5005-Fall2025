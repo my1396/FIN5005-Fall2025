{
 "cells": [
  {
   "cell_type": "markdown",
   "id": "7d56bf44",
   "metadata": {
    "vscode": {
     "languageId": "r"
    }
   },
   "source": [
    "# Lab 2: MLR with Dummy Variables\n",
    "\n",
    "## Instructions\n",
    "\n",
    "Copy and paste the following code into a new R script file in RStudio. Save the file as `lab2_binary_variables.R` (we call it a script). Then, run the code step by step, answering the questions."
   ]
  },
  {
   "cell_type": "code",
   "execution_count": 5,
   "id": "8cf1cd7a",
   "metadata": {
    "vscode": {
     "languageId": "r"
    }
   },
   "outputs": [],
   "source": [
    "# load packages and dataset\n",
    "pkgs <- c(\"tidyverse\", \"moments\", \"data.table\", \"ggsci\", \"stargazer\")\n",
    "missing <- setdiff(pkgs, rownames(installed.packages()))\n",
    "if (length(missing) > 0) install.packages(missing)\n",
    "invisible(lapply(pkgs, function(pkg) suppressPackageStartupMessages(library(pkg, character.only = TRUE))))"
   ]
  },
  {
   "cell_type": "markdown",
   "id": "fb01ec71",
   "metadata": {
    "vscode": {
     "languageId": "r"
    }
   },
   "source": [
    "## Load data into working directory\n",
    "\n",
    "We continue to use the same dataset California school dataset (CASchools). Refer to [Data Visualization: Dataset Overview](02_Data_Visualization.qmd#dataset-overview) for detailed description of the dataset.\n",
    "\n",
    "Previously, we have loaded the data directly from an online data repository. Now, we will load the data from a local CSV file. Downloaded the `CASchools_test_score.csv` file from Canvas and placed it in the same folder as where you put `lab2_binary_variables.R`. This is to make sure that the script can find the data file."
   ]
  },
  {
   "cell_type": "code",
   "execution_count": 6,
   "id": "1a1b745b",
   "metadata": {
    "vscode": {
     "languageId": "r"
    }
   },
   "outputs": [
    {
     "name": "stdout",
     "output_type": "stream",
     "text": [
      "     district                          school      county grades students\n",
      "        <num>                          <char>      <char> <char>    <num>\n",
      "  1:    75119              Sunol Glen Unified     Alameda  KK-08      195\n",
      "  2:    61499            Manzanita Elementary       Butte  KK-08      240\n",
      "  3:    61549     Thermalito Union Elementary       Butte  KK-08     1550\n",
      "  4:    61457 Golden Feather Union Elementary       Butte  KK-08      243\n",
      "  5:    61523        Palermo Union Elementary       Butte  KK-08     1335\n",
      " ---                                                                     \n",
      "416:    68957          Las Lomitas Elementary   San Mateo  KK-08      984\n",
      "417:    69518            Los Altos Elementary Santa Clara  KK-08     3724\n",
      "418:    72611          Somis Union Elementary     Ventura  KK-08      441\n",
      "419:    72744               Plumas Elementary        Yuba  KK-08      101\n",
      "420:    72751            Wheatland Elementary        Yuba  KK-08     1778\n",
      "     teachers calworks   lunch computer expenditure    income   english  read\n",
      "        <num>    <num>   <num>    <num>       <num>     <num>     <num> <num>\n",
      "  1:    10.90   0.5102  2.0408       67    6384.911 22.690001  0.000000 691.6\n",
      "  2:    11.15  15.4167 47.9167      101    5099.381  9.824000  4.583333 660.5\n",
      "  3:    82.90  55.0323 76.3226      169    5501.955  8.978000 30.000002 636.3\n",
      "  4:    14.00  36.4754 77.0492       85    7101.831  8.978000  0.000000 651.9\n",
      "  5:    71.50  33.1086 78.4270      171    5235.988  9.080333 13.857677 641.8\n",
      " ---                                                                         \n",
      "416:    59.73   0.1016  3.5569      195    7290.339 28.716999  5.995935 700.9\n",
      "417:   208.48   1.0741  1.5038      721    5741.463 41.734108  4.726101 704.0\n",
      "418:    20.15   3.5635 37.1938       45    4402.832 23.733000 24.263039 648.3\n",
      "419:     5.00  11.8812 59.4059       14    4776.336  9.952000  2.970297 667.9\n",
      "420:    93.40   6.9235 47.5712      313    5993.393 12.502000  5.005624 660.5\n",
      "      math\n",
      "     <num>\n",
      "  1: 690.0\n",
      "  2: 661.9\n",
      "  3: 650.9\n",
      "  4: 643.5\n",
      "  5: 639.9\n",
      " ---      \n",
      "416: 707.7\n",
      "417: 709.5\n",
      "418: 641.7\n",
      "419: 676.5\n",
      "420: 651.0\n"
     ]
    }
   ],
   "source": [
    "# load dataset\n",
    "f_name <- \"CASchools_test_score.csv\"\n",
    "cas <- read_csv(f_name)\n",
    "# data preview, first and last 5 rows\n",
    "cas %>% as.data.table() %>% print(topn=5)"
   ]
  },
  {
   "cell_type": "markdown",
   "id": "33eeb3b2",
   "metadata": {},
   "source": [
    "Prepare dataset for analysis. \n",
    "\n",
    "As done previously, we create the following variables:\n",
    "\n",
    "- `TestScore`: average test score of students in a school (average of math and reading scores)\n",
    "- `str`: student-teacher ratio"
   ]
  },
  {
   "cell_type": "code",
   "execution_count": 9,
   "id": "d43744db",
   "metadata": {
    "vscode": {
     "languageId": "r"
    }
   },
   "outputs": [],
   "source": [
    "cas <- cas %>%\n",
    "    mutate(\n",
    "        TestScore = (read + math) / 2,\n",
    "        STR = students / teachers\n",
    "    )"
   ]
  },
  {
   "cell_type": "markdown",
   "id": "7b45616d",
   "metadata": {},
   "source": [
    "## Regression When $X$ is a Binary Variable\n",
    "\n",
    "Instead of using a continuous regressor $X$ , we might be interested in running the regression\n",
    "\n",
    "$$\n",
    "Y_i = \\beta_0 + \\beta_1 D_i + u_i, \n",
    "$$ {#eq-binary-regression}\n",
    "\n",
    "where $D_i$ is a binary variable, a so-called dummary variable. For example, we may defined $D_i$ as follows:\n",
    "\n",
    "$$\n",
    "D_i = \n",
    "\\begin{cases}\n",
    "    1 & \\text{if $STR$ in $i^{th}$ school district < 20} \\\\\n",
    "    0 & \\text{if $STR$ in $i^{th}$ school district $\\geq$ 20}.\n",
    "\\end{cases}\n",
    "$$ {#eq-dummy-variable}\n",
    "\n",
    "The regression model now is \n",
    "\n",
    "$$\n",
    "TestScore_i = \\beta_0 + \\beta_1 D_i + u_i.\n",
    "$$"
   ]
  },
  {
   "cell_type": "markdown",
   "id": "6838d821",
   "metadata": {},
   "source": [
    "### Data Visualization"
   ]
  },
  {
   "cell_type": "code",
   "execution_count": 16,
   "id": "a31c1e34",
   "metadata": {
    "vscode": {
     "languageId": "r"
    }
   },
   "outputs": [],
   "source": [
    "# Create the dummy variable as defined above\n",
    "# D=1 (low STR); D=0 (high STR)\n",
    "cas$D <- cas$STR < 20"
   ]
  },
  {
   "cell_type": "code",
   "execution_count": 21,
   "id": "0358ad10",
   "metadata": {
    "vscode": {
     "languageId": "r"
    }
   },
   "outputs": [
    {
     "data": {
      "text/html": [
       "<table class=\"dataframe\">\n",
       "<caption>A data.frame: 2 × 2</caption>\n",
       "<thead>\n",
       "\t<tr><th scope=col>D</th><th scope=col>TestScore</th></tr>\n",
       "\t<tr><th scope=col>&lt;lgl&gt;</th><th scope=col>&lt;dbl&gt;</th></tr>\n",
       "</thead>\n",
       "<tbody>\n",
       "\t<tr><td>FALSE</td><td>650.0768</td></tr>\n",
       "\t<tr><td> TRUE</td><td>657.2462</td></tr>\n",
       "</tbody>\n",
       "</table>\n"
      ],
      "text/latex": [
       "A data.frame: 2 × 2\n",
       "\\begin{tabular}{ll}\n",
       " D & TestScore\\\\\n",
       " <lgl> & <dbl>\\\\\n",
       "\\hline\n",
       "\t FALSE & 650.0768\\\\\n",
       "\t  TRUE & 657.2462\\\\\n",
       "\\end{tabular}\n"
      ],
      "text/markdown": [
       "\n",
       "A data.frame: 2 × 2\n",
       "\n",
       "| D &lt;lgl&gt; | TestScore &lt;dbl&gt; |\n",
       "|---|---|\n",
       "| FALSE | 650.0768 |\n",
       "|  TRUE | 657.2462 |\n",
       "\n"
      ],
      "text/plain": [
       "  D     TestScore\n",
       "1 FALSE 650.0768 \n",
       "2  TRUE 657.2462 "
      ]
     },
     "metadata": {},
     "output_type": "display_data"
    }
   ],
   "source": [
    "# Compute group means\n",
    "means <- aggregate(TestScore ~ D, data = cas, mean)\n",
    "means"
   ]
  },
  {
   "cell_type": "code",
   "execution_count": null,
   "id": "94ff77b6",
   "metadata": {
    "vscode": {
     "languageId": "r"
    }
   },
   "outputs": [],
   "source": [
    "#| echo: false\n",
    "p <- ggplot(cas, aes(x = factor(D), y = TestScore)) +\n",
    "    # scatter points, spreads the points horizontally so they don't overlap\n",
    "    geom_jitter(width = 0.1, height = 0, size = 0.5, color = \"steelblue\") +\n",
    "    geom_point(\n",
    "        data = means, aes(x = factor(D), y = TestScore),\n",
    "        color = \"red\", size = 2\n",
    "    ) + # group means\n",
    "    labs(\n",
    "        x = expression(D[i]),\n",
    "        y = \"Test Score\",\n",
    "    ) +\n",
    "    theme_minimal(base_size = 14)\n",
    "f_name <- \"images/dummy_plot.png\"\n",
    "ggsave(f_name, p, width = 6, height = 4, dpi = 300, units = \"in\")"
   ]
  },
  {
   "cell_type": "code",
   "execution_count": null,
   "id": "3cffdd3c",
   "metadata": {
    "vscode": {
     "languageId": "r"
    }
   },
   "outputs": [],
   "source": [
    "#| eval: false\n",
    "ggplot(cas, aes(x = factor(D), y = TestScore)) +\n",
    "    # scatter points, spreads the points horizontally so they don't overlap\n",
    "    geom_jitter(width = 0.1, height = 0, size = 0.5, color = \"steelblue\") +\n",
    "    geom_point(\n",
    "        data = means, aes(x = factor(D), y = TestScore),\n",
    "        color = \"red\", size = 2\n",
    "    ) + # group means\n",
    "    labs(\n",
    "        x = expression(D[i]),\n",
    "        y = \"Test Score\",\n",
    "    ) +\n",
    "    theme_minimal(base_size = 14)"
   ]
  },
  {
   "cell_type": "code",
   "execution_count": 47,
   "id": "52bf9270",
   "metadata": {
    "vscode": {
     "languageId": "r"
    }
   },
   "outputs": [
    {
     "data": {
      "text/html": [
       "<div style=\"text-align: center;\"><img src=\"images/dummy_plot.png\" style=\"width: 70%; height: auto;\"></div>"
      ]
     },
     "metadata": {},
     "output_type": "display_data"
    }
   ],
   "source": [
    "#| echo: false\n",
    "# Display the image with controlled width and centered\n",
    "library(IRdisplay)\n",
    "display_html(paste0('<div style=\"text-align: center;\"><img src=\"', f_name, '\" style=\"width: 70%; height: auto;\"></div>'))"
   ]
  },
  {
   "cell_type": "markdown",
   "id": "65df5677",
   "metadata": {},
   "source": [
    "With $D$ as the regressor, it is not useful to think of $\\beta_1$ as a slope parameter since since $D_i \\in \\{0,1\\},$ i.e., we only observe two discrete values instead of a continuum of regressor values. There is no continuous line depicting the conditional expectation function $E(TestScore_i | D_i)$ since this function is solely defined for $x$-positions $D_i = 0$ and $D_i = 1$.\n",
    "\n",
    "Therefore, <span class=\"env-green\">the interpretation</span> of the coefficients in this regression model is as follows:\n",
    "\n",
    "- $E(Y_i | D_i = 0) = \\beta_0$, so $\\beta_0$ is the expected test score in districts where $D_i = 0$ and $STR$ is larger or equal to 20.\n",
    "- $E(Y_i | D_i = 1) = \\beta_0 + \\beta_1$, or $\\beta_1 = E(Y_i | D_i = 1) - E(Y_i | D_i = 0).$ Thus, $\\beta_1$ is the difference in group-specific expectations, i.e., the difference in expected test score between districts with $STR<20$ and those with $STR \\geq 20.$\n",
    "\n",
    "We now @eq-binary-regression"
   ]
  },
  {
   "cell_type": "code",
   "execution_count": null,
   "id": "d4b324d5",
   "metadata": {
    "vscode": {
     "languageId": "r"
    }
   },
   "outputs": [],
   "source": []
  },
  {
   "cell_type": "code",
   "execution_count": null,
   "id": "d11f30c8",
   "metadata": {
    "vscode": {
     "languageId": "r"
    }
   },
   "outputs": [],
   "source": []
  },
  {
   "cell_type": "code",
   "execution_count": null,
   "id": "51be454c",
   "metadata": {
    "vscode": {
     "languageId": "r"
    }
   },
   "outputs": [],
   "source": []
  },
  {
   "cell_type": "code",
   "execution_count": null,
   "id": "072f2837",
   "metadata": {
    "vscode": {
     "languageId": "r"
    }
   },
   "outputs": [],
   "source": []
  },
  {
   "cell_type": "code",
   "execution_count": null,
   "id": "029d27d9",
   "metadata": {
    "vscode": {
     "languageId": "r"
    }
   },
   "outputs": [],
   "source": []
  },
  {
   "cell_type": "code",
   "execution_count": null,
   "id": "b00ec470",
   "metadata": {
    "vscode": {
     "languageId": "r"
    }
   },
   "outputs": [],
   "source": []
  },
  {
   "cell_type": "code",
   "execution_count": null,
   "id": "1c6ab3a5",
   "metadata": {
    "vscode": {
     "languageId": "r"
    }
   },
   "outputs": [],
   "source": []
  }
 ],
 "metadata": {
  "kernelspec": {
   "display_name": "R",
   "language": "R",
   "name": "ir"
  },
  "language_info": {
   "codemirror_mode": "r",
   "file_extension": ".r",
   "mimetype": "text/x-r-source",
   "name": "R",
   "pygments_lexer": "r",
   "version": "4.5.1"
  }
 },
 "nbformat": 4,
 "nbformat_minor": 5
}
